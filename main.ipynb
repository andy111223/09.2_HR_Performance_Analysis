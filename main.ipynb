{
 "cells": [
  {
   "cell_type": "code",
   "execution_count": 350,
   "metadata": {},
   "outputs": [],
   "source": [
    "import pandas as pd\n",
    "import numpy as np\n",
    "import matplotlib.pyplot as plt\n",
    "import seaborn as sns\n",
    "import datetime as dt\n",
    "from dateutil.relativedelta import relativedelta\n",
    "%matplotlib inline"
   ]
  },
  {
   "cell_type": "code",
   "execution_count": 365,
   "metadata": {},
   "outputs": [],
   "source": [
    "df = pd.read_csv('HRDataset.csv')"
   ]
  },
  {
   "cell_type": "code",
   "execution_count": 366,
   "metadata": {},
   "outputs": [],
   "source": [
    "df_backup = df.copy()"
   ]
  },
  {
   "cell_type": "markdown",
   "metadata": {},
   "source": [
    "# Data Exploration and Preparation"
   ]
  },
  {
   "cell_type": "code",
   "execution_count": 352,
   "metadata": {},
   "outputs": [
    {
     "data": {
      "text/html": [
       "<div>\n",
       "<style scoped>\n",
       "    .dataframe tbody tr th:only-of-type {\n",
       "        vertical-align: middle;\n",
       "    }\n",
       "\n",
       "    .dataframe tbody tr th {\n",
       "        vertical-align: top;\n",
       "    }\n",
       "\n",
       "    .dataframe thead th {\n",
       "        text-align: right;\n",
       "    }\n",
       "</style>\n",
       "<table border=\"1\" class=\"dataframe\">\n",
       "  <thead>\n",
       "    <tr style=\"text-align: right;\">\n",
       "      <th></th>\n",
       "      <th>Employee_Name</th>\n",
       "      <th>EmpID</th>\n",
       "      <th>MarriedID</th>\n",
       "      <th>MaritalStatusID</th>\n",
       "      <th>GenderID</th>\n",
       "      <th>EmpStatusID</th>\n",
       "      <th>DeptID</th>\n",
       "      <th>PerfScoreID</th>\n",
       "      <th>FromDiversityJobFairID</th>\n",
       "      <th>PayRate</th>\n",
       "      <th>...</th>\n",
       "      <th>Department</th>\n",
       "      <th>ManagerName</th>\n",
       "      <th>ManagerID</th>\n",
       "      <th>RecruitmentSource</th>\n",
       "      <th>PerformanceScore</th>\n",
       "      <th>EngagementSurvey</th>\n",
       "      <th>EmpSatisfaction</th>\n",
       "      <th>SpecialProjectsCount</th>\n",
       "      <th>LastPerformanceReview_Date</th>\n",
       "      <th>DaysLateLast30</th>\n",
       "    </tr>\n",
       "  </thead>\n",
       "  <tbody>\n",
       "    <tr>\n",
       "      <th>35</th>\n",
       "      <td>Westinghouse, Matthew</td>\n",
       "      <td>1.009920e+09</td>\n",
       "      <td>1.0</td>\n",
       "      <td>1.0</td>\n",
       "      <td>1.0</td>\n",
       "      <td>1.0</td>\n",
       "      <td>3.0</td>\n",
       "      <td>3.0</td>\n",
       "      <td>0.0</td>\n",
       "      <td>45.00</td>\n",
       "      <td>...</td>\n",
       "      <td>IT/IS</td>\n",
       "      <td>Brian Champaigne</td>\n",
       "      <td>13.0</td>\n",
       "      <td>Indeed</td>\n",
       "      <td>Fully Meets</td>\n",
       "      <td>1.82</td>\n",
       "      <td>3.0</td>\n",
       "      <td>6.0</td>\n",
       "      <td>1/2/2019</td>\n",
       "      <td>0.0</td>\n",
       "    </tr>\n",
       "    <tr>\n",
       "      <th>4</th>\n",
       "      <td>Singh, Nan</td>\n",
       "      <td>1.307060e+09</td>\n",
       "      <td>0.0</td>\n",
       "      <td>0.0</td>\n",
       "      <td>0.0</td>\n",
       "      <td>1.0</td>\n",
       "      <td>1.0</td>\n",
       "      <td>3.0</td>\n",
       "      <td>0.0</td>\n",
       "      <td>16.56</td>\n",
       "      <td>...</td>\n",
       "      <td>Admin Offices</td>\n",
       "      <td>Brandon R. LeBlanc</td>\n",
       "      <td>1.0</td>\n",
       "      <td>Website Banner Ads</td>\n",
       "      <td>Fully Meets</td>\n",
       "      <td>5.00</td>\n",
       "      <td>3.0</td>\n",
       "      <td>5.0</td>\n",
       "      <td>1/15/2019</td>\n",
       "      <td>0.0</td>\n",
       "    </tr>\n",
       "    <tr>\n",
       "      <th>130</th>\n",
       "      <td>Squatrito, Kristen</td>\n",
       "      <td>1.405067e+09</td>\n",
       "      <td>0.0</td>\n",
       "      <td>2.0</td>\n",
       "      <td>0.0</td>\n",
       "      <td>5.0</td>\n",
       "      <td>5.0</td>\n",
       "      <td>4.0</td>\n",
       "      <td>0.0</td>\n",
       "      <td>21.00</td>\n",
       "      <td>...</td>\n",
       "      <td>Production</td>\n",
       "      <td>David Stanley</td>\n",
       "      <td>14.0</td>\n",
       "      <td>MBTA ads</td>\n",
       "      <td>Exceeds</td>\n",
       "      <td>1.97</td>\n",
       "      <td>4.0</td>\n",
       "      <td>0.0</td>\n",
       "      <td>NaN</td>\n",
       "      <td>NaN</td>\n",
       "    </tr>\n",
       "    <tr>\n",
       "      <th>74</th>\n",
       "      <td>Albert, Michael</td>\n",
       "      <td>1.501072e+09</td>\n",
       "      <td>0.0</td>\n",
       "      <td>2.0</td>\n",
       "      <td>1.0</td>\n",
       "      <td>1.0</td>\n",
       "      <td>5.0</td>\n",
       "      <td>3.0</td>\n",
       "      <td>0.0</td>\n",
       "      <td>54.50</td>\n",
       "      <td>...</td>\n",
       "      <td>Production</td>\n",
       "      <td>Janet King</td>\n",
       "      <td>2.0</td>\n",
       "      <td>Employee Referral</td>\n",
       "      <td>Fully Meets</td>\n",
       "      <td>3.93</td>\n",
       "      <td>3.0</td>\n",
       "      <td>0.0</td>\n",
       "      <td>2/27/2019</td>\n",
       "      <td>0.0</td>\n",
       "    </tr>\n",
       "    <tr>\n",
       "      <th>115</th>\n",
       "      <td>Sparks, Taylor</td>\n",
       "      <td>1.410071e+09</td>\n",
       "      <td>1.0</td>\n",
       "      <td>1.0</td>\n",
       "      <td>0.0</td>\n",
       "      <td>1.0</td>\n",
       "      <td>5.0</td>\n",
       "      <td>1.0</td>\n",
       "      <td>0.0</td>\n",
       "      <td>16.00</td>\n",
       "      <td>...</td>\n",
       "      <td>Production</td>\n",
       "      <td>Brannon Miller</td>\n",
       "      <td>12.0</td>\n",
       "      <td>Billboard</td>\n",
       "      <td>PIP</td>\n",
       "      <td>4.11</td>\n",
       "      <td>2.0</td>\n",
       "      <td>0.0</td>\n",
       "      <td>2/25/2019</td>\n",
       "      <td>0.0</td>\n",
       "    </tr>\n",
       "    <tr>\n",
       "      <th>360</th>\n",
       "      <td>NaN</td>\n",
       "      <td>NaN</td>\n",
       "      <td>NaN</td>\n",
       "      <td>NaN</td>\n",
       "      <td>NaN</td>\n",
       "      <td>NaN</td>\n",
       "      <td>NaN</td>\n",
       "      <td>NaN</td>\n",
       "      <td>NaN</td>\n",
       "      <td>NaN</td>\n",
       "      <td>...</td>\n",
       "      <td>NaN</td>\n",
       "      <td>NaN</td>\n",
       "      <td>NaN</td>\n",
       "      <td>NaN</td>\n",
       "      <td>NaN</td>\n",
       "      <td>NaN</td>\n",
       "      <td>NaN</td>\n",
       "      <td>NaN</td>\n",
       "      <td>NaN</td>\n",
       "      <td>NaN</td>\n",
       "    </tr>\n",
       "    <tr>\n",
       "      <th>214</th>\n",
       "      <td>Gilles, Alex</td>\n",
       "      <td>1.008021e+09</td>\n",
       "      <td>1.0</td>\n",
       "      <td>1.0</td>\n",
       "      <td>1.0</td>\n",
       "      <td>5.0</td>\n",
       "      <td>5.0</td>\n",
       "      <td>2.0</td>\n",
       "      <td>1.0</td>\n",
       "      <td>15.00</td>\n",
       "      <td>...</td>\n",
       "      <td>Production</td>\n",
       "      <td>Webster Butler</td>\n",
       "      <td>39.0</td>\n",
       "      <td>Diversity Job Fair</td>\n",
       "      <td>Needs Improvement</td>\n",
       "      <td>3.97</td>\n",
       "      <td>4.0</td>\n",
       "      <td>0.0</td>\n",
       "      <td>NaN</td>\n",
       "      <td>NaN</td>\n",
       "    </tr>\n",
       "  </tbody>\n",
       "</table>\n",
       "<p>7 rows × 35 columns</p>\n",
       "</div>"
      ],
      "text/plain": [
       "             Employee_Name         EmpID  MarriedID  MaritalStatusID  \\\n",
       "35   Westinghouse, Matthew  1.009920e+09        1.0              1.0   \n",
       "4              Singh, Nan   1.307060e+09        0.0              0.0   \n",
       "130     Squatrito, Kristen  1.405067e+09        0.0              2.0   \n",
       "74       Albert, Michael    1.501072e+09        0.0              2.0   \n",
       "115       Sparks, Taylor    1.410071e+09        1.0              1.0   \n",
       "360                    NaN           NaN        NaN              NaN   \n",
       "214           Gilles, Alex  1.008021e+09        1.0              1.0   \n",
       "\n",
       "     GenderID  EmpStatusID  DeptID  PerfScoreID  FromDiversityJobFairID  \\\n",
       "35        1.0          1.0     3.0          3.0                     0.0   \n",
       "4         0.0          1.0     1.0          3.0                     0.0   \n",
       "130       0.0          5.0     5.0          4.0                     0.0   \n",
       "74        1.0          1.0     5.0          3.0                     0.0   \n",
       "115       0.0          1.0     5.0          1.0                     0.0   \n",
       "360       NaN          NaN     NaN          NaN                     NaN   \n",
       "214       1.0          5.0     5.0          2.0                     1.0   \n",
       "\n",
       "     PayRate  ...         Department         ManagerName ManagerID  \\\n",
       "35     45.00  ...              IT/IS    Brian Champaigne      13.0   \n",
       "4      16.56  ...      Admin Offices  Brandon R. LeBlanc       1.0   \n",
       "130    21.00  ...  Production              David Stanley      14.0   \n",
       "74     54.50  ...  Production                 Janet King       2.0   \n",
       "115    16.00  ...  Production             Brannon Miller      12.0   \n",
       "360      NaN  ...                NaN                 NaN       NaN   \n",
       "214    15.00  ...  Production             Webster Butler      39.0   \n",
       "\n",
       "      RecruitmentSource   PerformanceScore EngagementSurvey EmpSatisfaction  \\\n",
       "35               Indeed        Fully Meets             1.82             3.0   \n",
       "4    Website Banner Ads        Fully Meets             5.00             3.0   \n",
       "130            MBTA ads            Exceeds             1.97             4.0   \n",
       "74    Employee Referral        Fully Meets             3.93             3.0   \n",
       "115           Billboard                PIP             4.11             2.0   \n",
       "360                 NaN                NaN              NaN             NaN   \n",
       "214  Diversity Job Fair  Needs Improvement             3.97             4.0   \n",
       "\n",
       "    SpecialProjectsCount LastPerformanceReview_Date DaysLateLast30  \n",
       "35                   6.0                   1/2/2019            0.0  \n",
       "4                    5.0                  1/15/2019            0.0  \n",
       "130                  0.0                        NaN            NaN  \n",
       "74                   0.0                  2/27/2019            0.0  \n",
       "115                  0.0                  2/25/2019            0.0  \n",
       "360                  NaN                        NaN            NaN  \n",
       "214                  0.0                        NaN            NaN  \n",
       "\n",
       "[7 rows x 35 columns]"
      ]
     },
     "execution_count": 352,
     "metadata": {},
     "output_type": "execute_result"
    }
   ],
   "source": [
    "df.sample(7)"
   ]
  },
  {
   "cell_type": "code",
   "execution_count": 353,
   "metadata": {},
   "outputs": [
    {
     "data": {
      "text/plain": [
       "Employee_Name                  object\n",
       "EmpID                         float64\n",
       "MarriedID                     float64\n",
       "MaritalStatusID               float64\n",
       "GenderID                      float64\n",
       "EmpStatusID                   float64\n",
       "DeptID                        float64\n",
       "PerfScoreID                   float64\n",
       "FromDiversityJobFairID        float64\n",
       "PayRate                       float64\n",
       "Termd                         float64\n",
       "PositionID                    float64\n",
       "Position                       object\n",
       "State                          object\n",
       "Zip                           float64\n",
       "DOB                            object\n",
       "Sex                            object\n",
       "MaritalDesc                    object\n",
       "CitizenDesc                    object\n",
       "HispanicLatino                 object\n",
       "RaceDesc                       object\n",
       "DateofHire                     object\n",
       "DateofTermination              object\n",
       "TermReason                     object\n",
       "EmploymentStatus               object\n",
       "Department                     object\n",
       "ManagerName                    object\n",
       "ManagerID                     float64\n",
       "RecruitmentSource              object\n",
       "PerformanceScore               object\n",
       "EngagementSurvey              float64\n",
       "EmpSatisfaction               float64\n",
       "SpecialProjectsCount          float64\n",
       "LastPerformanceReview_Date     object\n",
       "DaysLateLast30                float64\n",
       "dtype: object"
      ]
     },
     "execution_count": 353,
     "metadata": {},
     "output_type": "execute_result"
    }
   ],
   "source": [
    "df.dtypes"
   ]
  },
  {
   "cell_type": "code",
   "execution_count": 354,
   "metadata": {},
   "outputs": [
    {
     "data": {
      "text/plain": [
       "Index(['Employee_Name', 'EmpID', 'MarriedID', 'MaritalStatusID', 'GenderID',\n",
       "       'EmpStatusID', 'DeptID', 'PerfScoreID', 'FromDiversityJobFairID',\n",
       "       'PayRate', 'Termd', 'PositionID', 'Position', 'State', 'Zip', 'DOB',\n",
       "       'Sex', 'MaritalDesc', 'CitizenDesc', 'HispanicLatino', 'RaceDesc',\n",
       "       'DateofHire', 'DateofTermination', 'TermReason', 'EmploymentStatus',\n",
       "       'Department', 'ManagerName', 'ManagerID', 'RecruitmentSource',\n",
       "       'PerformanceScore', 'EngagementSurvey', 'EmpSatisfaction',\n",
       "       'SpecialProjectsCount', 'LastPerformanceReview_Date', 'DaysLateLast30'],\n",
       "      dtype='object')"
      ]
     },
     "execution_count": 354,
     "metadata": {},
     "output_type": "execute_result"
    }
   ],
   "source": [
    "df.columns"
   ]
  },
  {
   "cell_type": "code",
   "execution_count": 355,
   "metadata": {},
   "outputs": [
    {
     "data": {
      "text/html": [
       "<div>\n",
       "<style scoped>\n",
       "    .dataframe tbody tr th:only-of-type {\n",
       "        vertical-align: middle;\n",
       "    }\n",
       "\n",
       "    .dataframe tbody tr th {\n",
       "        vertical-align: top;\n",
       "    }\n",
       "\n",
       "    .dataframe thead th {\n",
       "        text-align: right;\n",
       "    }\n",
       "</style>\n",
       "<table border=\"1\" class=\"dataframe\">\n",
       "  <thead>\n",
       "    <tr style=\"text-align: right;\">\n",
       "      <th></th>\n",
       "      <th>Employee_Name</th>\n",
       "      <th>DOB</th>\n",
       "    </tr>\n",
       "  </thead>\n",
       "  <tbody>\n",
       "    <tr>\n",
       "      <th>0</th>\n",
       "      <td>Brown, Mia</td>\n",
       "      <td>11/24/87</td>\n",
       "    </tr>\n",
       "    <tr>\n",
       "      <th>1</th>\n",
       "      <td>LaRotonda, William</td>\n",
       "      <td>04/26/84</td>\n",
       "    </tr>\n",
       "    <tr>\n",
       "      <th>2</th>\n",
       "      <td>Steans, Tyrone</td>\n",
       "      <td>09/01/86</td>\n",
       "    </tr>\n",
       "    <tr>\n",
       "      <th>3</th>\n",
       "      <td>Howard, Estelle</td>\n",
       "      <td>09/16/85</td>\n",
       "    </tr>\n",
       "    <tr>\n",
       "      <th>4</th>\n",
       "      <td>Singh, Nan</td>\n",
       "      <td>05/19/88</td>\n",
       "    </tr>\n",
       "    <tr>\n",
       "      <th>...</th>\n",
       "      <td>...</td>\n",
       "      <td>...</td>\n",
       "    </tr>\n",
       "    <tr>\n",
       "      <th>396</th>\n",
       "      <td>NaN</td>\n",
       "      <td>NaN</td>\n",
       "    </tr>\n",
       "    <tr>\n",
       "      <th>397</th>\n",
       "      <td>NaN</td>\n",
       "      <td>NaN</td>\n",
       "    </tr>\n",
       "    <tr>\n",
       "      <th>398</th>\n",
       "      <td>NaN</td>\n",
       "      <td>NaN</td>\n",
       "    </tr>\n",
       "    <tr>\n",
       "      <th>399</th>\n",
       "      <td>NaN</td>\n",
       "      <td>NaN</td>\n",
       "    </tr>\n",
       "    <tr>\n",
       "      <th>400</th>\n",
       "      <td>NaN</td>\n",
       "      <td>NaN</td>\n",
       "    </tr>\n",
       "  </tbody>\n",
       "</table>\n",
       "<p>401 rows × 2 columns</p>\n",
       "</div>"
      ],
      "text/plain": [
       "            Employee_Name       DOB\n",
       "0              Brown, Mia  11/24/87\n",
       "1    LaRotonda, William    04/26/84\n",
       "2        Steans, Tyrone    09/01/86\n",
       "3         Howard, Estelle  09/16/85\n",
       "4             Singh, Nan   05/19/88\n",
       "..                    ...       ...\n",
       "396                   NaN       NaN\n",
       "397                   NaN       NaN\n",
       "398                   NaN       NaN\n",
       "399                   NaN       NaN\n",
       "400                   NaN       NaN\n",
       "\n",
       "[401 rows x 2 columns]"
      ]
     },
     "execution_count": 355,
     "metadata": {},
     "output_type": "execute_result"
    }
   ],
   "source": [
    "df[['Employee_Name','DOB']]"
   ]
  },
  {
   "cell_type": "code",
   "execution_count": 356,
   "metadata": {},
   "outputs": [],
   "source": [
    "df['DOB'] = pd.to_datetime(df['DOB'],format='%m/%d/%y')"
   ]
  },
  {
   "cell_type": "code",
   "execution_count": 357,
   "metadata": {},
   "outputs": [
    {
     "data": {
      "text/plain": [
       "6     2064-06-01\n",
       "7     2063-05-15\n",
       "12    2054-10-12\n",
       "22    2063-08-28\n",
       "31    2068-01-15\n",
       "32    2065-05-07\n",
       "54    2066-03-17\n",
       "57    2064-01-04\n",
       "61    2068-07-06\n",
       "73    2054-09-21\n",
       "74    2068-10-10\n",
       "87    2055-11-14\n",
       "91    2067-04-19\n",
       "101   2065-05-09\n",
       "102   2065-09-09\n",
       "112   2067-06-03\n",
       "115   2068-07-20\n",
       "116   2067-06-05\n",
       "146   2068-08-15\n",
       "155   2064-04-13\n",
       "157   2068-05-30\n",
       "159   2061-06-19\n",
       "160   2068-06-06\n",
       "164   2058-12-27\n",
       "175   2065-02-02\n",
       "184   2066-03-22\n",
       "195   2051-01-02\n",
       "200   2059-08-19\n",
       "213   2055-04-14\n",
       "215   2052-08-18\n",
       "231   2064-10-12\n",
       "235   2058-11-07\n",
       "242   2067-01-16\n",
       "247   2063-10-30\n",
       "248   2053-05-24\n",
       "249   2066-04-17\n",
       "250   2051-02-25\n",
       "279   2052-02-11\n",
       "298   2066-11-22\n",
       "303   2064-07-30\n",
       "305   2052-01-18\n",
       "308   2065-09-09\n",
       "Name: DOB, dtype: datetime64[ns]"
      ]
     },
     "execution_count": 357,
     "metadata": {},
     "output_type": "execute_result"
    }
   ],
   "source": [
    "erroneous_dobs = df[df['DOB'] > pd.to_datetime('2000-01-01')]\n",
    "erroneous_dobs['DOB']"
   ]
  },
  {
   "cell_type": "code",
   "execution_count": 358,
   "metadata": {},
   "outputs": [],
   "source": [
    "def correct_dob(row):\n",
    "\n",
    "    if (row['DOB'] < pd.to_datetime('2000-01-01')):\n",
    "        dob = row[\"DOB\"]\n",
    "    else:\n",
    "        dob = row['DOB'] - relativedelta(years=100)\n",
    "    return dob"
   ]
  },
  {
   "cell_type": "code",
   "execution_count": 359,
   "metadata": {},
   "outputs": [
    {
     "ename": "IllegalMonthError",
     "evalue": "bad month number nan; must be 1-12",
     "output_type": "error",
     "traceback": [
      "\u001b[0;31m---------------------------------------------------------------------------\u001b[0m",
      "\u001b[0;31mIllegalMonthError\u001b[0m                         Traceback (most recent call last)",
      "Cell \u001b[0;32mIn[359], line 1\u001b[0m\n\u001b[0;32m----> 1\u001b[0m df[\u001b[38;5;124m'\u001b[39m\u001b[38;5;124mCorrect_DOB\u001b[39m\u001b[38;5;124m'\u001b[39m] \u001b[38;5;241m=\u001b[39m \u001b[43mdf\u001b[49m\u001b[38;5;241;43m.\u001b[39;49m\u001b[43mapply\u001b[49m\u001b[43m(\u001b[49m\u001b[38;5;28;43;01mlambda\u001b[39;49;00m\u001b[43m \u001b[49m\u001b[43mrow\u001b[49m\u001b[43m:\u001b[49m\u001b[43m \u001b[49m\u001b[43mcorrect_dob\u001b[49m\u001b[43m(\u001b[49m\u001b[43mrow\u001b[49m\u001b[43m)\u001b[49m\u001b[43m,\u001b[49m\u001b[43maxis\u001b[49m\u001b[38;5;241;43m=\u001b[39;49m\u001b[38;5;241;43m1\u001b[39;49m\u001b[43m)\u001b[49m\n",
      "File \u001b[0;32m~/Desktop/kodilla/python/new_env/lib/python3.12/site-packages/pandas/core/frame.py:10374\u001b[0m, in \u001b[0;36mDataFrame.apply\u001b[0;34m(self, func, axis, raw, result_type, args, by_row, engine, engine_kwargs, **kwargs)\u001b[0m\n\u001b[1;32m  10360\u001b[0m \u001b[38;5;28;01mfrom\u001b[39;00m \u001b[38;5;21;01mpandas\u001b[39;00m\u001b[38;5;21;01m.\u001b[39;00m\u001b[38;5;21;01mcore\u001b[39;00m\u001b[38;5;21;01m.\u001b[39;00m\u001b[38;5;21;01mapply\u001b[39;00m \u001b[38;5;28;01mimport\u001b[39;00m frame_apply\n\u001b[1;32m  10362\u001b[0m op \u001b[38;5;241m=\u001b[39m frame_apply(\n\u001b[1;32m  10363\u001b[0m     \u001b[38;5;28mself\u001b[39m,\n\u001b[1;32m  10364\u001b[0m     func\u001b[38;5;241m=\u001b[39mfunc,\n\u001b[0;32m   (...)\u001b[0m\n\u001b[1;32m  10372\u001b[0m     kwargs\u001b[38;5;241m=\u001b[39mkwargs,\n\u001b[1;32m  10373\u001b[0m )\n\u001b[0;32m> 10374\u001b[0m \u001b[38;5;28;01mreturn\u001b[39;00m \u001b[43mop\u001b[49m\u001b[38;5;241;43m.\u001b[39;49m\u001b[43mapply\u001b[49m\u001b[43m(\u001b[49m\u001b[43m)\u001b[49m\u001b[38;5;241m.\u001b[39m__finalize__(\u001b[38;5;28mself\u001b[39m, method\u001b[38;5;241m=\u001b[39m\u001b[38;5;124m\"\u001b[39m\u001b[38;5;124mapply\u001b[39m\u001b[38;5;124m\"\u001b[39m)\n",
      "File \u001b[0;32m~/Desktop/kodilla/python/new_env/lib/python3.12/site-packages/pandas/core/apply.py:916\u001b[0m, in \u001b[0;36mFrameApply.apply\u001b[0;34m(self)\u001b[0m\n\u001b[1;32m    913\u001b[0m \u001b[38;5;28;01melif\u001b[39;00m \u001b[38;5;28mself\u001b[39m\u001b[38;5;241m.\u001b[39mraw:\n\u001b[1;32m    914\u001b[0m     \u001b[38;5;28;01mreturn\u001b[39;00m \u001b[38;5;28mself\u001b[39m\u001b[38;5;241m.\u001b[39mapply_raw(engine\u001b[38;5;241m=\u001b[39m\u001b[38;5;28mself\u001b[39m\u001b[38;5;241m.\u001b[39mengine, engine_kwargs\u001b[38;5;241m=\u001b[39m\u001b[38;5;28mself\u001b[39m\u001b[38;5;241m.\u001b[39mengine_kwargs)\n\u001b[0;32m--> 916\u001b[0m \u001b[38;5;28;01mreturn\u001b[39;00m \u001b[38;5;28;43mself\u001b[39;49m\u001b[38;5;241;43m.\u001b[39;49m\u001b[43mapply_standard\u001b[49m\u001b[43m(\u001b[49m\u001b[43m)\u001b[49m\n",
      "File \u001b[0;32m~/Desktop/kodilla/python/new_env/lib/python3.12/site-packages/pandas/core/apply.py:1063\u001b[0m, in \u001b[0;36mFrameApply.apply_standard\u001b[0;34m(self)\u001b[0m\n\u001b[1;32m   1061\u001b[0m \u001b[38;5;28;01mdef\u001b[39;00m \u001b[38;5;21mapply_standard\u001b[39m(\u001b[38;5;28mself\u001b[39m):\n\u001b[1;32m   1062\u001b[0m     \u001b[38;5;28;01mif\u001b[39;00m \u001b[38;5;28mself\u001b[39m\u001b[38;5;241m.\u001b[39mengine \u001b[38;5;241m==\u001b[39m \u001b[38;5;124m\"\u001b[39m\u001b[38;5;124mpython\u001b[39m\u001b[38;5;124m\"\u001b[39m:\n\u001b[0;32m-> 1063\u001b[0m         results, res_index \u001b[38;5;241m=\u001b[39m \u001b[38;5;28;43mself\u001b[39;49m\u001b[38;5;241;43m.\u001b[39;49m\u001b[43mapply_series_generator\u001b[49m\u001b[43m(\u001b[49m\u001b[43m)\u001b[49m\n\u001b[1;32m   1064\u001b[0m     \u001b[38;5;28;01melse\u001b[39;00m:\n\u001b[1;32m   1065\u001b[0m         results, res_index \u001b[38;5;241m=\u001b[39m \u001b[38;5;28mself\u001b[39m\u001b[38;5;241m.\u001b[39mapply_series_numba()\n",
      "File \u001b[0;32m~/Desktop/kodilla/python/new_env/lib/python3.12/site-packages/pandas/core/apply.py:1081\u001b[0m, in \u001b[0;36mFrameApply.apply_series_generator\u001b[0;34m(self)\u001b[0m\n\u001b[1;32m   1078\u001b[0m \u001b[38;5;28;01mwith\u001b[39;00m option_context(\u001b[38;5;124m\"\u001b[39m\u001b[38;5;124mmode.chained_assignment\u001b[39m\u001b[38;5;124m\"\u001b[39m, \u001b[38;5;28;01mNone\u001b[39;00m):\n\u001b[1;32m   1079\u001b[0m     \u001b[38;5;28;01mfor\u001b[39;00m i, v \u001b[38;5;129;01min\u001b[39;00m \u001b[38;5;28menumerate\u001b[39m(series_gen):\n\u001b[1;32m   1080\u001b[0m         \u001b[38;5;66;03m# ignore SettingWithCopy here in case the user mutates\u001b[39;00m\n\u001b[0;32m-> 1081\u001b[0m         results[i] \u001b[38;5;241m=\u001b[39m \u001b[38;5;28;43mself\u001b[39;49m\u001b[38;5;241;43m.\u001b[39;49m\u001b[43mfunc\u001b[49m\u001b[43m(\u001b[49m\u001b[43mv\u001b[49m\u001b[43m,\u001b[49m\u001b[43m \u001b[49m\u001b[38;5;241;43m*\u001b[39;49m\u001b[38;5;28;43mself\u001b[39;49m\u001b[38;5;241;43m.\u001b[39;49m\u001b[43margs\u001b[49m\u001b[43m,\u001b[49m\u001b[43m \u001b[49m\u001b[38;5;241;43m*\u001b[39;49m\u001b[38;5;241;43m*\u001b[39;49m\u001b[38;5;28;43mself\u001b[39;49m\u001b[38;5;241;43m.\u001b[39;49m\u001b[43mkwargs\u001b[49m\u001b[43m)\u001b[49m\n\u001b[1;32m   1082\u001b[0m         \u001b[38;5;28;01mif\u001b[39;00m \u001b[38;5;28misinstance\u001b[39m(results[i], ABCSeries):\n\u001b[1;32m   1083\u001b[0m             \u001b[38;5;66;03m# If we have a view on v, we need to make a copy because\u001b[39;00m\n\u001b[1;32m   1084\u001b[0m             \u001b[38;5;66;03m#  series_generator will swap out the underlying data\u001b[39;00m\n\u001b[1;32m   1085\u001b[0m             results[i] \u001b[38;5;241m=\u001b[39m results[i]\u001b[38;5;241m.\u001b[39mcopy(deep\u001b[38;5;241m=\u001b[39m\u001b[38;5;28;01mFalse\u001b[39;00m)\n",
      "Cell \u001b[0;32mIn[359], line 1\u001b[0m, in \u001b[0;36m<lambda>\u001b[0;34m(row)\u001b[0m\n\u001b[0;32m----> 1\u001b[0m df[\u001b[38;5;124m'\u001b[39m\u001b[38;5;124mCorrect_DOB\u001b[39m\u001b[38;5;124m'\u001b[39m] \u001b[38;5;241m=\u001b[39m df\u001b[38;5;241m.\u001b[39mapply(\u001b[38;5;28;01mlambda\u001b[39;00m row: \u001b[43mcorrect_dob\u001b[49m\u001b[43m(\u001b[49m\u001b[43mrow\u001b[49m\u001b[43m)\u001b[49m,axis\u001b[38;5;241m=\u001b[39m\u001b[38;5;241m1\u001b[39m)\n",
      "Cell \u001b[0;32mIn[358], line 6\u001b[0m, in \u001b[0;36mcorrect_dob\u001b[0;34m(row)\u001b[0m\n\u001b[1;32m      4\u001b[0m     dob \u001b[38;5;241m=\u001b[39m row[\u001b[38;5;124m\"\u001b[39m\u001b[38;5;124mDOB\u001b[39m\u001b[38;5;124m\"\u001b[39m]\n\u001b[1;32m      5\u001b[0m \u001b[38;5;28;01melse\u001b[39;00m:\n\u001b[0;32m----> 6\u001b[0m     dob \u001b[38;5;241m=\u001b[39m \u001b[43mrow\u001b[49m\u001b[43m[\u001b[49m\u001b[38;5;124;43m'\u001b[39;49m\u001b[38;5;124;43mDOB\u001b[39;49m\u001b[38;5;124;43m'\u001b[39;49m\u001b[43m]\u001b[49m\u001b[43m \u001b[49m\u001b[38;5;241;43m-\u001b[39;49m\u001b[43m \u001b[49m\u001b[43mrelativedelta\u001b[49m\u001b[43m(\u001b[49m\u001b[43myears\u001b[49m\u001b[38;5;241;43m=\u001b[39;49m\u001b[38;5;241;43m100\u001b[39;49m\u001b[43m)\u001b[49m\n\u001b[1;32m      7\u001b[0m \u001b[38;5;28;01mreturn\u001b[39;00m dob\n",
      "File \u001b[0;32m~/Desktop/kodilla/python/new_env/lib/python3.12/site-packages/dateutil/relativedelta.py:408\u001b[0m, in \u001b[0;36mrelativedelta.__rsub__\u001b[0;34m(self, other)\u001b[0m\n\u001b[1;32m    407\u001b[0m \u001b[38;5;28;01mdef\u001b[39;00m \u001b[38;5;21m__rsub__\u001b[39m(\u001b[38;5;28mself\u001b[39m, other):\n\u001b[0;32m--> 408\u001b[0m     \u001b[38;5;28;01mreturn\u001b[39;00m \u001b[38;5;28;43mself\u001b[39;49m\u001b[38;5;241;43m.\u001b[39;49m\u001b[38;5;21;43m__neg__\u001b[39;49m\u001b[43m(\u001b[49m\u001b[43m)\u001b[49m\u001b[38;5;241;43m.\u001b[39;49m\u001b[38;5;21;43m__radd__\u001b[39;49m\u001b[43m(\u001b[49m\u001b[43mother\u001b[49m\u001b[43m)\u001b[49m\n",
      "File \u001b[0;32m~/Desktop/kodilla/python/new_env/lib/python3.12/site-packages/dateutil/relativedelta.py:405\u001b[0m, in \u001b[0;36mrelativedelta.__radd__\u001b[0;34m(self, other)\u001b[0m\n\u001b[1;32m    404\u001b[0m \u001b[38;5;28;01mdef\u001b[39;00m \u001b[38;5;21m__radd__\u001b[39m(\u001b[38;5;28mself\u001b[39m, other):\n\u001b[0;32m--> 405\u001b[0m     \u001b[38;5;28;01mreturn\u001b[39;00m \u001b[38;5;28;43mself\u001b[39;49m\u001b[38;5;241;43m.\u001b[39;49m\u001b[38;5;21;43m__add__\u001b[39;49m\u001b[43m(\u001b[49m\u001b[43mother\u001b[49m\u001b[43m)\u001b[49m\n",
      "File \u001b[0;32m~/Desktop/kodilla/python/new_env/lib/python3.12/site-packages/dateutil/relativedelta.py:377\u001b[0m, in \u001b[0;36mrelativedelta.__add__\u001b[0;34m(self, other)\u001b[0m\n\u001b[1;32m    375\u001b[0m         year \u001b[38;5;241m-\u001b[39m\u001b[38;5;241m=\u001b[39m \u001b[38;5;241m1\u001b[39m\n\u001b[1;32m    376\u001b[0m         month \u001b[38;5;241m+\u001b[39m\u001b[38;5;241m=\u001b[39m \u001b[38;5;241m12\u001b[39m\n\u001b[0;32m--> 377\u001b[0m day \u001b[38;5;241m=\u001b[39m \u001b[38;5;28mmin\u001b[39m(\u001b[43mcalendar\u001b[49m\u001b[38;5;241;43m.\u001b[39;49m\u001b[43mmonthrange\u001b[49m\u001b[43m(\u001b[49m\u001b[43myear\u001b[49m\u001b[43m,\u001b[49m\u001b[43m \u001b[49m\u001b[43mmonth\u001b[49m\u001b[43m)\u001b[49m[\u001b[38;5;241m1\u001b[39m],\n\u001b[1;32m    378\u001b[0m           \u001b[38;5;28mself\u001b[39m\u001b[38;5;241m.\u001b[39mday \u001b[38;5;129;01mor\u001b[39;00m other\u001b[38;5;241m.\u001b[39mday)\n\u001b[1;32m    379\u001b[0m repl \u001b[38;5;241m=\u001b[39m {\u001b[38;5;124m\"\u001b[39m\u001b[38;5;124myear\u001b[39m\u001b[38;5;124m\"\u001b[39m: year, \u001b[38;5;124m\"\u001b[39m\u001b[38;5;124mmonth\u001b[39m\u001b[38;5;124m\"\u001b[39m: month, \u001b[38;5;124m\"\u001b[39m\u001b[38;5;124mday\u001b[39m\u001b[38;5;124m\"\u001b[39m: day}\n\u001b[1;32m    380\u001b[0m \u001b[38;5;28;01mfor\u001b[39;00m attr \u001b[38;5;129;01min\u001b[39;00m [\u001b[38;5;124m\"\u001b[39m\u001b[38;5;124mhour\u001b[39m\u001b[38;5;124m\"\u001b[39m, \u001b[38;5;124m\"\u001b[39m\u001b[38;5;124mminute\u001b[39m\u001b[38;5;124m\"\u001b[39m, \u001b[38;5;124m\"\u001b[39m\u001b[38;5;124msecond\u001b[39m\u001b[38;5;124m\"\u001b[39m, \u001b[38;5;124m\"\u001b[39m\u001b[38;5;124mmicrosecond\u001b[39m\u001b[38;5;124m\"\u001b[39m]:\n",
      "File \u001b[0;32m/usr/lib/python3.12/calendar.py:165\u001b[0m, in \u001b[0;36mmonthrange\u001b[0;34m(year, month)\u001b[0m\n\u001b[1;32m    162\u001b[0m \u001b[38;5;250m\u001b[39m\u001b[38;5;124;03m\"\"\"Return weekday (0-6 ~ Mon-Sun) and number of days (28-31) for\u001b[39;00m\n\u001b[1;32m    163\u001b[0m \u001b[38;5;124;03m   year, month.\"\"\"\u001b[39;00m\n\u001b[1;32m    164\u001b[0m \u001b[38;5;28;01mif\u001b[39;00m \u001b[38;5;129;01mnot\u001b[39;00m \u001b[38;5;241m1\u001b[39m \u001b[38;5;241m<\u001b[39m\u001b[38;5;241m=\u001b[39m month \u001b[38;5;241m<\u001b[39m\u001b[38;5;241m=\u001b[39m \u001b[38;5;241m12\u001b[39m:\n\u001b[0;32m--> 165\u001b[0m     \u001b[38;5;28;01mraise\u001b[39;00m IllegalMonthError(month)\n\u001b[1;32m    166\u001b[0m day1 \u001b[38;5;241m=\u001b[39m weekday(year, month, \u001b[38;5;241m1\u001b[39m)\n\u001b[1;32m    167\u001b[0m ndays \u001b[38;5;241m=\u001b[39m mdays[month] \u001b[38;5;241m+\u001b[39m (month \u001b[38;5;241m==\u001b[39m FEBRUARY \u001b[38;5;129;01mand\u001b[39;00m isleap(year))\n",
      "\u001b[0;31mIllegalMonthError\u001b[0m: bad month number nan; must be 1-12"
     ]
    }
   ],
   "source": [
    "df['Correct_DOB'] = df.apply(lambda row: correct_dob(row),axis=1)"
   ]
  },
  {
   "cell_type": "code",
   "execution_count": null,
   "metadata": {},
   "outputs": [],
   "source": [
    "df.drop(['DOB'], axis=1, inplace=True)"
   ]
  },
  {
   "cell_type": "code",
   "execution_count": null,
   "metadata": {},
   "outputs": [],
   "source": [
    "df['DateofTermination'] = pd.to_datetime(df['DateofTermination'],format='%m/%d/%y')\n",
    "df['DateofHire'] = pd.to_datetime(df['DateofHire'],format='%m/%d/%Y')\n",
    "\n",
    "def count_seniority(row):\n",
    "\n",
    "    if pd.isnull(row['DateofTermination']):\n",
    "        end_date = dt.datetime(2019,9,27)\n",
    "    else:\n",
    "        end_date = row['DateofTermination']\n",
    "\n",
    "    delta = end_date - row['DateofHire']\n",
    "    seniority_years = delta.total_seconds() / (365.25 * 24 * 3600)\n",
    "    return seniority_years"
   ]
  },
  {
   "cell_type": "code",
   "execution_count": null,
   "metadata": {},
   "outputs": [],
   "source": [
    "df['Seniority'] = df.apply(lambda row: count_seniority(row),axis=1)"
   ]
  },
  {
   "cell_type": "code",
   "execution_count": null,
   "metadata": {},
   "outputs": [],
   "source": [
    "df.drop(['LastPerformanceReview_Date','DaysLateLast30'],axis=1,inplace=True)\n",
    "df.dropna(thresh=2,inplace=True)"
   ]
  },
  {
   "cell_type": "code",
   "execution_count": null,
   "metadata": {},
   "outputs": [
    {
     "data": {
      "text/html": [
       "<div>\n",
       "<style scoped>\n",
       "    .dataframe tbody tr th:only-of-type {\n",
       "        vertical-align: middle;\n",
       "    }\n",
       "\n",
       "    .dataframe tbody tr th {\n",
       "        vertical-align: top;\n",
       "    }\n",
       "\n",
       "    .dataframe thead th {\n",
       "        text-align: right;\n",
       "    }\n",
       "</style>\n",
       "<table border=\"1\" class=\"dataframe\">\n",
       "  <thead>\n",
       "    <tr style=\"text-align: right;\">\n",
       "      <th></th>\n",
       "      <th>EmpID</th>\n",
       "      <th>MarriedID</th>\n",
       "      <th>MaritalStatusID</th>\n",
       "      <th>GenderID</th>\n",
       "      <th>EmpStatusID</th>\n",
       "      <th>DeptID</th>\n",
       "      <th>PerfScoreID</th>\n",
       "      <th>FromDiversityJobFairID</th>\n",
       "      <th>PayRate</th>\n",
       "      <th>Termd</th>\n",
       "      <th>PositionID</th>\n",
       "      <th>Zip</th>\n",
       "      <th>DateofHire</th>\n",
       "      <th>DateofTermination</th>\n",
       "      <th>ManagerID</th>\n",
       "      <th>EngagementSurvey</th>\n",
       "      <th>EmpSatisfaction</th>\n",
       "      <th>SpecialProjectsCount</th>\n",
       "      <th>Correct_DOB</th>\n",
       "      <th>Seniority</th>\n",
       "    </tr>\n",
       "  </thead>\n",
       "  <tbody>\n",
       "    <tr>\n",
       "      <th>count</th>\n",
       "      <td>3.100000e+02</td>\n",
       "      <td>310.000000</td>\n",
       "      <td>310.000000</td>\n",
       "      <td>310.000000</td>\n",
       "      <td>310.000000</td>\n",
       "      <td>310.000000</td>\n",
       "      <td>310.000000</td>\n",
       "      <td>310.000000</td>\n",
       "      <td>310.000000</td>\n",
       "      <td>310.000000</td>\n",
       "      <td>310.000000</td>\n",
       "      <td>310.000000</td>\n",
       "      <td>310</td>\n",
       "      <td>103</td>\n",
       "      <td>302.000000</td>\n",
       "      <td>310.000000</td>\n",
       "      <td>310.000000</td>\n",
       "      <td>310.000000</td>\n",
       "      <td>310</td>\n",
       "      <td>310.000000</td>\n",
       "    </tr>\n",
       "    <tr>\n",
       "      <th>mean</th>\n",
       "      <td>1.199745e+09</td>\n",
       "      <td>0.396774</td>\n",
       "      <td>0.809677</td>\n",
       "      <td>0.429032</td>\n",
       "      <td>2.396774</td>\n",
       "      <td>4.606452</td>\n",
       "      <td>2.983871</td>\n",
       "      <td>0.093548</td>\n",
       "      <td>31.284806</td>\n",
       "      <td>0.332258</td>\n",
       "      <td>16.838710</td>\n",
       "      <td>6569.732258</td>\n",
       "      <td>2013-01-27 09:08:07.741935360</td>\n",
       "      <td>2014-01-18 20:16:18.640776704</td>\n",
       "      <td>14.579470</td>\n",
       "      <td>3.332097</td>\n",
       "      <td>3.890323</td>\n",
       "      <td>1.209677</td>\n",
       "      <td>1979-01-26 14:00:46.451612896</td>\n",
       "      <td>4.773355</td>\n",
       "    </tr>\n",
       "    <tr>\n",
       "      <th>min</th>\n",
       "      <td>6.020003e+08</td>\n",
       "      <td>0.000000</td>\n",
       "      <td>0.000000</td>\n",
       "      <td>0.000000</td>\n",
       "      <td>1.000000</td>\n",
       "      <td>1.000000</td>\n",
       "      <td>1.000000</td>\n",
       "      <td>0.000000</td>\n",
       "      <td>14.000000</td>\n",
       "      <td>0.000000</td>\n",
       "      <td>1.000000</td>\n",
       "      <td>1013.000000</td>\n",
       "      <td>2006-01-09 00:00:00</td>\n",
       "      <td>2010-07-30 00:00:00</td>\n",
       "      <td>1.000000</td>\n",
       "      <td>1.030000</td>\n",
       "      <td>1.000000</td>\n",
       "      <td>0.000000</td>\n",
       "      <td>1951-01-02 00:00:00</td>\n",
       "      <td>0.005476</td>\n",
       "    </tr>\n",
       "    <tr>\n",
       "      <th>25%</th>\n",
       "      <td>1.101024e+09</td>\n",
       "      <td>0.000000</td>\n",
       "      <td>0.000000</td>\n",
       "      <td>0.000000</td>\n",
       "      <td>1.000000</td>\n",
       "      <td>5.000000</td>\n",
       "      <td>3.000000</td>\n",
       "      <td>0.000000</td>\n",
       "      <td>20.000000</td>\n",
       "      <td>0.000000</td>\n",
       "      <td>18.000000</td>\n",
       "      <td>1901.250000</td>\n",
       "      <td>2011-07-11 00:00:00</td>\n",
       "      <td>2012-08-31 12:00:00</td>\n",
       "      <td>10.000000</td>\n",
       "      <td>2.082500</td>\n",
       "      <td>3.000000</td>\n",
       "      <td>0.000000</td>\n",
       "      <td>1973-11-30 12:00:00</td>\n",
       "      <td>3.000684</td>\n",
       "    </tr>\n",
       "    <tr>\n",
       "      <th>50%</th>\n",
       "      <td>1.203032e+09</td>\n",
       "      <td>0.000000</td>\n",
       "      <td>1.000000</td>\n",
       "      <td>0.000000</td>\n",
       "      <td>1.000000</td>\n",
       "      <td>5.000000</td>\n",
       "      <td>3.000000</td>\n",
       "      <td>0.000000</td>\n",
       "      <td>24.000000</td>\n",
       "      <td>0.000000</td>\n",
       "      <td>19.000000</td>\n",
       "      <td>2132.000000</td>\n",
       "      <td>2013-02-03 12:00:00</td>\n",
       "      <td>2014-03-31 00:00:00</td>\n",
       "      <td>15.000000</td>\n",
       "      <td>3.470000</td>\n",
       "      <td>4.000000</td>\n",
       "      <td>0.000000</td>\n",
       "      <td>1980-09-12 12:00:00</td>\n",
       "      <td>4.992471</td>\n",
       "    </tr>\n",
       "    <tr>\n",
       "      <th>75%</th>\n",
       "      <td>1.378814e+09</td>\n",
       "      <td>1.000000</td>\n",
       "      <td>1.000000</td>\n",
       "      <td>1.000000</td>\n",
       "      <td>5.000000</td>\n",
       "      <td>5.000000</td>\n",
       "      <td>3.000000</td>\n",
       "      <td>0.000000</td>\n",
       "      <td>45.315000</td>\n",
       "      <td>1.000000</td>\n",
       "      <td>20.000000</td>\n",
       "      <td>2357.000000</td>\n",
       "      <td>2014-09-10 06:00:00</td>\n",
       "      <td>2015-09-09 12:00:00</td>\n",
       "      <td>19.000000</td>\n",
       "      <td>4.520000</td>\n",
       "      <td>5.000000</td>\n",
       "      <td>0.000000</td>\n",
       "      <td>1986-05-17 18:00:00</td>\n",
       "      <td>6.220397</td>\n",
       "    </tr>\n",
       "    <tr>\n",
       "      <th>max</th>\n",
       "      <td>1.988300e+09</td>\n",
       "      <td>1.000000</td>\n",
       "      <td>4.000000</td>\n",
       "      <td>1.000000</td>\n",
       "      <td>5.000000</td>\n",
       "      <td>6.000000</td>\n",
       "      <td>4.000000</td>\n",
       "      <td>1.000000</td>\n",
       "      <td>80.000000</td>\n",
       "      <td>1.000000</td>\n",
       "      <td>30.000000</td>\n",
       "      <td>98052.000000</td>\n",
       "      <td>2017-04-20 00:00:00</td>\n",
       "      <td>2016-06-16 00:00:00</td>\n",
       "      <td>39.000000</td>\n",
       "      <td>5.000000</td>\n",
       "      <td>5.000000</td>\n",
       "      <td>8.000000</td>\n",
       "      <td>1992-08-17 00:00:00</td>\n",
       "      <td>13.713895</td>\n",
       "    </tr>\n",
       "    <tr>\n",
       "      <th>std</th>\n",
       "      <td>1.829600e+08</td>\n",
       "      <td>0.490019</td>\n",
       "      <td>0.944702</td>\n",
       "      <td>0.495738</td>\n",
       "      <td>1.795533</td>\n",
       "      <td>1.082349</td>\n",
       "      <td>0.577124</td>\n",
       "      <td>0.291670</td>\n",
       "      <td>15.383615</td>\n",
       "      <td>0.471785</td>\n",
       "      <td>6.232272</td>\n",
       "      <td>16933.864054</td>\n",
       "      <td>NaN</td>\n",
       "      <td>NaN</td>\n",
       "      <td>8.090352</td>\n",
       "      <td>1.290590</td>\n",
       "      <td>0.910690</td>\n",
       "      <td>2.352009</td>\n",
       "      <td>NaN</td>\n",
       "      <td>2.638686</td>\n",
       "    </tr>\n",
       "  </tbody>\n",
       "</table>\n",
       "</div>"
      ],
      "text/plain": [
       "              EmpID   MarriedID  MaritalStatusID    GenderID  EmpStatusID  \\\n",
       "count  3.100000e+02  310.000000       310.000000  310.000000   310.000000   \n",
       "mean   1.199745e+09    0.396774         0.809677    0.429032     2.396774   \n",
       "min    6.020003e+08    0.000000         0.000000    0.000000     1.000000   \n",
       "25%    1.101024e+09    0.000000         0.000000    0.000000     1.000000   \n",
       "50%    1.203032e+09    0.000000         1.000000    0.000000     1.000000   \n",
       "75%    1.378814e+09    1.000000         1.000000    1.000000     5.000000   \n",
       "max    1.988300e+09    1.000000         4.000000    1.000000     5.000000   \n",
       "std    1.829600e+08    0.490019         0.944702    0.495738     1.795533   \n",
       "\n",
       "           DeptID  PerfScoreID  FromDiversityJobFairID     PayRate  \\\n",
       "count  310.000000   310.000000              310.000000  310.000000   \n",
       "mean     4.606452     2.983871                0.093548   31.284806   \n",
       "min      1.000000     1.000000                0.000000   14.000000   \n",
       "25%      5.000000     3.000000                0.000000   20.000000   \n",
       "50%      5.000000     3.000000                0.000000   24.000000   \n",
       "75%      5.000000     3.000000                0.000000   45.315000   \n",
       "max      6.000000     4.000000                1.000000   80.000000   \n",
       "std      1.082349     0.577124                0.291670   15.383615   \n",
       "\n",
       "            Termd  PositionID           Zip                     DateofHire  \\\n",
       "count  310.000000  310.000000    310.000000                            310   \n",
       "mean     0.332258   16.838710   6569.732258  2013-01-27 09:08:07.741935360   \n",
       "min      0.000000    1.000000   1013.000000            2006-01-09 00:00:00   \n",
       "25%      0.000000   18.000000   1901.250000            2011-07-11 00:00:00   \n",
       "50%      0.000000   19.000000   2132.000000            2013-02-03 12:00:00   \n",
       "75%      1.000000   20.000000   2357.000000            2014-09-10 06:00:00   \n",
       "max      1.000000   30.000000  98052.000000            2017-04-20 00:00:00   \n",
       "std      0.471785    6.232272  16933.864054                            NaN   \n",
       "\n",
       "                   DateofTermination   ManagerID  EngagementSurvey  \\\n",
       "count                            103  302.000000        310.000000   \n",
       "mean   2014-01-18 20:16:18.640776704   14.579470          3.332097   \n",
       "min              2010-07-30 00:00:00    1.000000          1.030000   \n",
       "25%              2012-08-31 12:00:00   10.000000          2.082500   \n",
       "50%              2014-03-31 00:00:00   15.000000          3.470000   \n",
       "75%              2015-09-09 12:00:00   19.000000          4.520000   \n",
       "max              2016-06-16 00:00:00   39.000000          5.000000   \n",
       "std                              NaN    8.090352          1.290590   \n",
       "\n",
       "       EmpSatisfaction  SpecialProjectsCount                    Correct_DOB  \\\n",
       "count       310.000000            310.000000                            310   \n",
       "mean          3.890323              1.209677  1979-01-26 14:00:46.451612896   \n",
       "min           1.000000              0.000000            1951-01-02 00:00:00   \n",
       "25%           3.000000              0.000000            1973-11-30 12:00:00   \n",
       "50%           4.000000              0.000000            1980-09-12 12:00:00   \n",
       "75%           5.000000              0.000000            1986-05-17 18:00:00   \n",
       "max           5.000000              8.000000            1992-08-17 00:00:00   \n",
       "std           0.910690              2.352009                            NaN   \n",
       "\n",
       "        Seniority  \n",
       "count  310.000000  \n",
       "mean     4.773355  \n",
       "min      0.005476  \n",
       "25%      3.000684  \n",
       "50%      4.992471  \n",
       "75%      6.220397  \n",
       "max     13.713895  \n",
       "std      2.638686  "
      ]
     },
     "execution_count": 295,
     "metadata": {},
     "output_type": "execute_result"
    }
   ],
   "source": [
    "df.describe()"
   ]
  },
  {
   "cell_type": "code",
   "execution_count": null,
   "metadata": {},
   "outputs": [
    {
     "data": {
      "text/plain": [
       "array(['Brown, Mia', 'LaRotonda, William  ', 'Steans, Tyrone  ',\n",
       "       'Howard, Estelle', 'Singh, Nan ', 'Smith, Leigh Ann',\n",
       "       'Bunbury, Jessica', 'Carter, Michelle ', 'Dietrich, Jenna  ',\n",
       "       'Digitale, Alfred', 'Friedman, Gerry', 'Gill, Whitney  ',\n",
       "       'Gonzales, Ricardo', 'Guilianno, Mike', 'Leruth, Giovanni',\n",
       "       'Mullaney, Howard', 'Ozark, Travis', 'Strong, Caitrin',\n",
       "       'Valentin,Jackie', 'Villanueva, Noah', 'Buck, Edward',\n",
       "       'Costa, Latia', 'Fraval, Maruk ', 'Givens, Myriam',\n",
       "       'Jeremy Prater', 'Khemmich, Bartholemew', 'Martins, Joseph',\n",
       "       'McKinzie, Jac', 'Nguyen, Dheepa', 'Onque, Jasmine', 'Potts, Xana',\n",
       "       'Riordan, Michael', 'Terry, Sharlene ', 'Rachael, Maggie',\n",
       "       'Smith, Jason', 'Westinghouse, Matthew', 'Hubert, Robert',\n",
       "       'Champaigne, Brian', 'Zamora, Jennifer', 'Roper, Katie',\n",
       "       'Becker, Renee', 'Goble, Taisha', 'Hernandez, Daniff',\n",
       "       'Horton, Jayne', 'Johnson, Noelle ', 'Murray, Thomas',\n",
       "       'Pearson, Randall', 'Petrowsky, Thelma', 'Roby, Lori ',\n",
       "       'Rogers, Ivan', 'Salter, Jason', 'Simard, Kramer', 'Zhou, Julia',\n",
       "       'Bramante, Elisa', 'Houlihan, Debra', 'Foss, Jason', 'Roup,Simon',\n",
       "       'Ruiz, Ricardo', 'Monroe, Peter', 'Dougall, Eric', 'Clayton, Rick',\n",
       "       'Galia, Lisa', 'Lindsay, Leonara ', 'Soto, Julia ',\n",
       "       'Bacong, Alejandro ', 'Cisco, Anthony', 'Dolan, Linda',\n",
       "       'Gonzalez, Maria', 'Merlos, Carlos', 'Morway, Tanya',\n",
       "       'Shepard, Anita ', 'Tredinnick, Neville ', 'Turpin, Jumil',\n",
       "       'King, Janet', 'Albert, Michael  ', 'Bozzi, Charles',\n",
       "       'Butler, Webster  L', 'Dunn, Amy  ', 'Gray, Elijiah  ',\n",
       "       'Hogland, Jonathan ', 'Immediato, Walter', 'Liebig, Ketsia',\n",
       "       'Miller, Brannon', 'Peterson, Ebonee  ', 'Spirea, Kelley',\n",
       "       'Stanley, David ', 'Sullivan, Kissy ', 'Wallace, Courtney  E',\n",
       "       'Anderson, Linda  ', 'Bernstein, Sean', 'Chivukula, Enola',\n",
       "       'Desimone, Carl ', 'Fernandes, Nilson  ', 'Girifalco, Evelyn',\n",
       "       'Harrison, Kara', 'Kirill, Alexandra  ', 'MacLennan, Samuel',\n",
       "       'Ndzi, Horia', 'Perry, Shakira', 'Robinson, Alain  ',\n",
       "       'Shields, Seffi', 'Theamstern, Sophia', 'Wilber, Barry',\n",
       "       'Bachiochi, Linda', 'Billis, Helen', 'Clukey, Elijian',\n",
       "       'DiNocco, Lily ', 'Fidelia,  Libby', 'Gonzalez, Cayo',\n",
       "       'Ivey, Rose ', 'Kretschmer, John', 'Mangal, Debbie',\n",
       "       'Ngodup, Shari ', 'Pham, Hong', 'Robinson, Elias',\n",
       "       'Sparks, Taylor  ', 'Tippett, Jeanette', 'Ybarra, Catherine ',\n",
       "       'Baczenski, Rachael  ', 'Brill, Donna', 'Cockel, James',\n",
       "       'Dobrin, Denisa  S', 'Garcia, Raul', 'Gordon, David',\n",
       "       'Jackson, Maryellen', 'Langton, Enrico', 'Maurice, Shana',\n",
       "       'Nguyen, Lei-Ming', 'Pitt, Brad ', 'Rose, Ashley  ',\n",
       "       'Squatrito, Kristen', 'Trang, Mei', 'Zima, Colleen',\n",
       "       'Alagbe,Trina', 'Beatrice, Courtney ', 'Chan, Lin',\n",
       "       \"Darson, Jene'ya \", 'Evensen, April', 'Gerke, Melisa',\n",
       "       'Harrell, Ludwick', 'Jung, Judy  ', 'Lydon, Allison',\n",
       "       'Motlagh,  Dawn', 'Panjwani, Nina', 'Rhoads, Thomas',\n",
       "       'Sander, Kamrin', 'Sutwell, Barbara', 'Wallace, Theresa',\n",
       "       'Barone, Francesco  A', 'Carey, Michael  ', 'Cornett, Lisa ',\n",
       "       'Engdahl, Jean', 'England, Rex', 'Gaul, Barbara', 'Gross, Paula',\n",
       "       'Jhaveri, Sneha  ', 'LeBel, Jonathan  R', 'Meads, Elizabeth',\n",
       "       'Osturnka, Adeel', 'Punjabhi, Louis  ', 'Saar-Beckles, Melinda',\n",
       "       'Stoica, Rick', 'Volk, Colleen', 'Athwal, Sam', 'Biden, Lowan  M',\n",
       "       'Cierpiszewski, Caroline  ', 'Dickinson, Geoff ',\n",
       "       'Ferreira, Violeta', 'Gold, Shenice  ', 'Heitzman, Anthony',\n",
       "       'Knapp, Bradley  J', 'Mahoney, Lauren  ', 'Newman, Richard ',\n",
       "       'Peterson, Kayla ', 'Robinson, Cherly', 'Smith, Sade',\n",
       "       'Tinto, Theresa  ', 'Williams, Jacquelyn  ', 'Barbara, Thomas',\n",
       "       'Bugali, Josephine ', 'Cole, Spencer', 'Eaton, Marianne',\n",
       "       'Garneau, Hamish', 'Goyal, Roxana', 'Jacobi, Hannah  ',\n",
       "       'Leach, Dallas', 'Mckenna, Sandy', \"O'hare, Lynn\",\n",
       "       'Power, Morissa', 'Purinton, Janine', 'Rossetti, Bruno',\n",
       "       'Stanford,Barbara  M', 'Veera, Abdellah ', 'Adinolfi, Wilson  K',\n",
       "       'Barton, Nader', 'Chace, Beatrice ', 'Crimmings,   Jean',\n",
       "       'Estremera, Miguel', 'Gentry, Mildred', 'Handschiegl, Joanne',\n",
       "       'Johnson, George', 'Keatts, Kramer ', 'Linares, Marilyn ',\n",
       "       'Medeiros, Jennifer', 'Owad, Clinton', 'Rarrick, Quinn',\n",
       "       'Sadki, Nore  ', 'Sullivan, Timothy', 'Von Massenbach, Anna',\n",
       "       'Anderson, Carol ', 'Becker, Scott', 'Chang, Donovan  E',\n",
       "       'DeGweck,  James', 'Ferguson, Susan', 'Gilles, Alex',\n",
       "       'Harrington, Christie ', 'Kinsella, Kathleen  ', 'Lynch, Lindsay',\n",
       "       'Ndzi, Colombui', 'Pelech, Emil', 'Rivera, Haley  ',\n",
       "       'Sewkumar, Nori', 'Tavares, Desiree  ', 'Whittier, Scott',\n",
       "       'Burke, Joelle', 'Fitzpatrick, Michael  J', 'Huynh, Ming',\n",
       "       'Mancuso, Karen', 'Pelletier, Ermine', 'Trzeciak, Cybil',\n",
       "       'Cloninger, Jennifer', 'Gonzalez, Juan', 'Johnston, Yen',\n",
       "       'Miller, Ned', 'Petingill, Shana  ', 'Winthrop, Jordan  ',\n",
       "       'Close, Phil', 'Good, Susan', 'Langford, Lindsey',\n",
       "       'Monkfish, Erasumus', 'Roberson, May', 'Wolk, Hang  T',\n",
       "       'Bondwell, Betsy', 'Faller, Megan ', 'Hunts, Julissa',\n",
       "       'Lunquist, Lisa', 'Nowlan, Kristie', 'Smith, Joe',\n",
       "       'Tejeda, Lenora ', 'Beak, Kimberly  ', 'Demita, Carla',\n",
       "       'Hankard, Earnest', 'Hendrickson, Trina', 'Linden, Mathew',\n",
       "       'Moran, Patrick', 'Sahoo, Adil', 'Burkett, Benjamin ',\n",
       "       'Foreman, Tanya', 'Jeannite, Tayana', 'McCarthy, Brigit',\n",
       "       'Peters, Lauren', 'Walker, Roger', 'Akinkuolie, Sarah',\n",
       "       'Davis, Daniel', 'Gosciminski, Phylicia  ', 'Latif, Mohammed',\n",
       "       'Monterro, Luisa', 'Robertson, Peter', 'Woodson, Jason',\n",
       "       'Blount, Dianna', 'Erilus, Angela', 'Homberger, Adrienne  J',\n",
       "       'Lundy, Susan', 'Moumanil, Maliki ', 'Sloan, Constance',\n",
       "       'Buccheri, Joseph  ', 'Fancett, Nicole', 'Hutter, Rosalie',\n",
       "       'Manchester, Robyn', 'Oliver, Brooke ', 'Thibaud, Kenneth',\n",
       "       'Daneault, Lynn', 'Kampew, Donysha', 'Smith, John', 'Le, Binh',\n",
       "       'Navathe, Kurt', 'Wang, Charlie', 'LeBlanc, Brandon  R',\n",
       "       'Quinn, Sean', 'Andreola, Colby', 'Carabbio, Judith',\n",
       "       'Del Bosque, Keyla', 'Exantus, Susan', 'Martin, Sandra',\n",
       "       'Patronick, Luke', 'Saada, Adell', 'Szabo, Andrew', 'True, Edward',\n",
       "       'Sweetwater, Alex', 'Foster-Baker, Amy', 'Boutwell, Bonalyn',\n",
       "       'Ait Sidi, Karthikeyan   ', 'Carr, Claudia  N', 'Favis, Donald  ',\n",
       "       'Roehrich, Bianca', 'Daniele, Ann  ', 'Lajiri,  Jyoti',\n",
       "       'Semizoglou, Jeremiah  ', 'South, Joe', 'Warfield, Sarah'],\n",
       "      dtype=object)"
      ]
     },
     "execution_count": 296,
     "metadata": {},
     "output_type": "execute_result"
    }
   ],
   "source": [
    "df['Employee_Name'].unique()"
   ]
  },
  {
   "cell_type": "code",
   "execution_count": null,
   "metadata": {},
   "outputs": [
    {
     "data": {
      "text/plain": [
       "array(['Accountant I', 'Administrative Assistant', 'Area Sales Manager',\n",
       "       'BI Developer', 'BI Director', 'CIO', 'Data Architect',\n",
       "       'Database Administrator', 'Data Analyst', 'Data Analyst ',\n",
       "       'Director of Operations', 'Director of Sales', 'IT Director',\n",
       "       'IT Manager - DB', 'IT Manager - Infra', 'IT Manager - Support',\n",
       "       'IT Support', 'Network Engineer', 'President & CEO',\n",
       "       'Production Manager', 'Production Technician I',\n",
       "       'Production Technician II', 'Sales Manager', 'Senior BI Developer',\n",
       "       'Shared Services Manager', 'Software Engineer',\n",
       "       'Software Engineering Manager', 'Sr. Accountant', 'Sr. DBA',\n",
       "       'Enterprise Architect', 'Principal Data Architect',\n",
       "       'Sr. Network Engineer'], dtype=object)"
      ]
     },
     "execution_count": 297,
     "metadata": {},
     "output_type": "execute_result"
    }
   ],
   "source": [
    "df['Position'].unique()"
   ]
  },
  {
   "cell_type": "code",
   "execution_count": null,
   "metadata": {},
   "outputs": [
    {
     "data": {
      "text/plain": [
       "array(['Married', 'Divorced', 'Single', 'Widowed', 'Separated'],\n",
       "      dtype=object)"
      ]
     },
     "execution_count": 298,
     "metadata": {},
     "output_type": "execute_result"
    }
   ],
   "source": [
    "df['MaritalDesc'].unique()"
   ]
  },
  {
   "cell_type": "code",
   "execution_count": null,
   "metadata": {},
   "outputs": [],
   "source": [
    "df_prep = pd.concat([df, pd.get_dummies(df['MaritalDesc'],drop_first=True)],axis=1)\n"
   ]
  },
  {
   "cell_type": "code",
   "execution_count": null,
   "metadata": {},
   "outputs": [
    {
     "data": {
      "text/plain": [
       "array(['Fully Meets', 'PIP', 'Exceeds', 'Needs Improvement'], dtype=object)"
      ]
     },
     "execution_count": 301,
     "metadata": {},
     "output_type": "execute_result"
    }
   ],
   "source": [
    "df_prep['PerformanceScore'].unique()"
   ]
  },
  {
   "cell_type": "code",
   "execution_count": null,
   "metadata": {},
   "outputs": [],
   "source": [
    "performance_mapping = {\n",
    "    'Needs Improvement':1,\n",
    "    'Fully Meets':2,\n",
    "    'Exceeds':3,\n",
    "    'PIP':0\n",
    "}\n",
    "df_prep['PerformanceScore_Numeric'] = df_prep['PerformanceScore'].map(performance_mapping)"
   ]
  },
  {
   "cell_type": "code",
   "execution_count": null,
   "metadata": {},
   "outputs": [
    {
     "data": {
      "text/plain": [
       "array([ 1., 17., 21., 13.,  5.,  2.,  4.,  6.,  7.,  9., 11., 12., 14.,\n",
       "       16., 18., 19., 20., 22., 39., nan, 30., 15., 10.,  3.])"
      ]
     },
     "execution_count": 300,
     "metadata": {},
     "output_type": "execute_result"
    }
   ],
   "source": [
    "df_prep['ManagerID'].unique()"
   ]
  },
  {
   "cell_type": "code",
   "execution_count": null,
   "metadata": {},
   "outputs": [
    {
     "data": {
      "text/plain": [
       "array(['Brandon R. LeBlanc', 'John Smith', 'Lynn Daneault',\n",
       "       'Brian Champaigne', 'Jennifer Zamora', 'Janet King', 'Simon Roup',\n",
       "       'Eric Dougall', 'Peter Monroe', 'Board of Directors', 'Amy Dunn',\n",
       "       'Brannon Miller', 'David Stanley', 'Elijiah Gray', 'Kelley Spirea',\n",
       "       'Ketsia Liebig', 'Kissy Sullivan', 'Michael Albert',\n",
       "       'Webster Butler', 'Debra Houlihan', 'Alex Sweetwater'],\n",
       "      dtype=object)"
      ]
     },
     "execution_count": 299,
     "metadata": {},
     "output_type": "execute_result"
    }
   ],
   "source": [
    "df_prep['ManagerName'].unique()"
   ]
  },
  {
   "cell_type": "code",
   "execution_count": null,
   "metadata": {},
   "outputs": [
    {
     "data": {
      "text/plain": [
       "array([3., 1., 4., 2.])"
      ]
     },
     "execution_count": 302,
     "metadata": {},
     "output_type": "execute_result"
    }
   ],
   "source": [
    "df_prep['PerfScoreID'].unique()"
   ]
  },
  {
   "cell_type": "code",
   "execution_count": null,
   "metadata": {},
   "outputs": [
    {
     "data": {
      "text/plain": [
       "array([2., 4., 5., 3., 1.])"
      ]
     },
     "execution_count": 304,
     "metadata": {},
     "output_type": "execute_result"
    }
   ],
   "source": [
    "df_prep['EmpSatisfaction'].unique()"
   ]
  },
  {
   "cell_type": "code",
   "execution_count": null,
   "metadata": {},
   "outputs": [
    {
     "data": {
      "text/plain": [
       "array(['Diversity Job Fair', 'Website Banner Ads', 'Internet Search',\n",
       "       'Pay Per Click - Google', 'Social Networks - Facebook Twitter etc',\n",
       "       'Billboard', 'Monster.com', 'Newspager/Magazine',\n",
       "       'Professional Society', 'Other', 'Employee Referral', 'Indeed',\n",
       "       'Search Engine - Google Bing Yahoo', 'Glassdoor',\n",
       "       'Vendor Referral', 'MBTA ads', 'Information Session',\n",
       "       'Word of Mouth', 'Pay Per Click', 'On-campus Recruiting',\n",
       "       'On-line Web application', 'Careerbuilder',\n",
       "       'Company Intranet - Partner'], dtype=object)"
      ]
     },
     "execution_count": 303,
     "metadata": {},
     "output_type": "execute_result"
    }
   ],
   "source": [
    "df_prep['RecruitmentSource'].unique()"
   ]
  },
  {
   "cell_type": "code",
   "execution_count": 360,
   "metadata": {},
   "outputs": [],
   "source": [
    "reference_date = pd.to_datetime('2024-11-11') \n",
    "df_prep['Age'] = (reference_date - df_prep['Correct_DOB']).dt.days / 365.25"
   ]
  },
  {
   "cell_type": "code",
   "execution_count": 361,
   "metadata": {},
   "outputs": [
    {
     "data": {
      "text/plain": [
       "0      36.966461\n",
       "1      40.544832\n",
       "2      38.195756\n",
       "3      39.154004\n",
       "4      36.481862\n",
       "         ...    \n",
       "305    72.815880\n",
       "306    38.554415\n",
       "307    41.754962\n",
       "308    59.173169\n",
       "309    46.529774\n",
       "Name: Age, Length: 310, dtype: float64"
      ]
     },
     "execution_count": 361,
     "metadata": {},
     "output_type": "execute_result"
    }
   ],
   "source": [
    "df_prep['Age']"
   ]
  },
  {
   "cell_type": "code",
   "execution_count": null,
   "metadata": {},
   "outputs": [
    {
     "data": {
      "text/plain": [
       "np.float64(32.23545516769336)"
      ]
     },
     "execution_count": 313,
     "metadata": {},
     "output_type": "execute_result"
    }
   ],
   "source": [
    "df_prep['Age'].min()"
   ]
  },
  {
   "cell_type": "code",
   "execution_count": 362,
   "metadata": {},
   "outputs": [
    {
     "data": {
      "text/plain": [
       "np.float64(73.8590006844627)"
      ]
     },
     "execution_count": 362,
     "metadata": {},
     "output_type": "execute_result"
    }
   ],
   "source": [
    "df_prep['Age'].max()"
   ]
  },
  {
   "cell_type": "code",
   "execution_count": 364,
   "metadata": {},
   "outputs": [
    {
     "data": {
      "text/plain": [
       "<Axes: xlabel='Age', ylabel='Count'>"
      ]
     },
     "execution_count": 364,
     "metadata": {},
     "output_type": "execute_result"
    },
    {
     "data": {
      "image/png": "[encoded data removed]",
      "text/plain": [
       "<Figure size 640x480 with 1 Axes>"
      ]
     },
     "metadata": {},
     "output_type": "display_data"
    }
   ],
   "source": [
    "sns.histplot(df_prep['Age'], bins=30, kde=True)"
   ]
  },
  {
   "cell_type": "code",
   "execution_count": null,
   "metadata": {},
   "outputs": [
    {
     "data": {
      "text/plain": [
       "array([6., 4., 5., 0., 7., 3., 2., 8.])"
      ]
     },
     "execution_count": 316,
     "metadata": {},
     "output_type": "execute_result"
    }
   ],
   "source": [
    "df_prep['SpecialProjectsCount'].unique()"
   ]
  },
  {
   "cell_type": "code",
   "execution_count": null,
   "metadata": {},
   "outputs": [
    {
     "data": {
      "text/plain": [
       "<Axes: >"
      ]
     },
     "execution_count": 345,
     "metadata": {},
     "output_type": "execute_result"
    },
    {
     "data": {
      "image/png": "[encoded data removed]",
      "text/plain": [
       "<Figure size 640x480 with 2 Axes>"
      ]
     },
     "metadata": {},
     "output_type": "display_data"
    }
   ],
   "source": [
    "corr_matrix = df_prep[['Seniority', 'EngagementSurvey', 'EmpSatisfaction', 'SpecialProjectsCount']].corr()\n",
    "sns.heatmap(corr_matrix, annot=True, cmap='coolwarm', vmin=-1, vmax=1)"
   ]
  },
  {
   "cell_type": "code",
   "execution_count": null,
   "metadata": {},
   "outputs": [],
   "source": []
  }
 ],
 "metadata": {
  "kernelspec": {
   "display_name": "new_env",
   "language": "python",
   "name": "python3"
  },
  "language_info": {
   "codemirror_mode": {
    "name": "ipython",
    "version": 3
   },
   "file_extension": ".py",
   "mimetype": "text/x-python",
   "name": "python",
   "nbconvert_exporter": "python",
   "pygments_lexer": "ipython3",
   "version": "3.12.3"
  }
 },
 "nbformat": 4,
 "nbformat_minor": 2
}
